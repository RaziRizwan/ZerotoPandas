{
 "cells": [
  {
   "cell_type": "markdown",
   "id": "570ff0b6-5ed3-4420-bef3-ae67ce1ca8d9",
   "metadata": {},
   "source": [
    "## Assignment #1"
   ]
  },
  {
   "cell_type": "markdown",
   "id": "5a9bbab3",
   "metadata": {},
   "source": [
    "#### Problem 1- Variables and Data Types"
   ]
  },
  {
   "cell_type": "code",
   "execution_count": 95,
   "id": "0c84a29c",
   "metadata": {},
   "outputs": [],
   "source": [
    "name = 'Razi'"
   ]
  },
  {
   "cell_type": "code",
   "execution_count": 96,
   "id": "2bce593c",
   "metadata": {},
   "outputs": [],
   "source": [
    "age = 21"
   ]
  },
  {
   "cell_type": "code",
   "execution_count": 97,
   "id": "12d54866",
   "metadata": {},
   "outputs": [],
   "source": [
    "has_android_phone = True"
   ]
  },
  {
   "cell_type": "code",
   "execution_count": 98,
   "id": "75e17c15",
   "metadata": {},
   "outputs": [
    {
     "data": {
      "text/plain": [
       "('Razi', 21, True)"
      ]
     },
     "execution_count": 98,
     "metadata": {},
     "output_type": "execute_result"
    }
   ],
   "source": [
    "name, age, has_android_phone"
   ]
  },
  {
   "cell_type": "code",
   "execution_count": 99,
   "id": "f3a8a1e1",
   "metadata": {},
   "outputs": [
    {
     "name": "stdout",
     "output_type": "stream",
     "text": [
      "Person : {'Name': 'Razi', 'Age': 21, 'HasAndroidPhone': True}\n"
     ]
    }
   ],
   "source": [
    "# Create dictionary\n",
    "person = {\n",
    "    \"Name\": name,\n",
    "    \"Age\": age,\n",
    "    \"HasAndroidPhone\": has_android_phone\n",
    "}\n",
    "\n",
    "# Output the dictionary\n",
    "print(\"Person :\",person)"
   ]
  },
  {
   "cell_type": "code",
   "execution_count": 100,
   "id": "8728cda8",
   "metadata": {},
   "outputs": [
    {
     "name": "stdout",
     "output_type": "stream",
     "text": [
      "The key 'Name' has a value of type <class 'str'>.\n",
      "The key 'Age' has a value of type <class 'int'>.\n",
      "The key 'HasAndroidPhone' has a value of type <class 'bool'>.\n"
     ]
    }
   ],
   "source": [
    "# Loop through the dictionary and display the type of each value\n",
    "for key, value in person.items():\n",
    "    print(f\"The key '{key}' has a value of type {type(value)}.\")"
   ]
  },
  {
   "cell_type": "markdown",
   "id": "c581c96f",
   "metadata": {},
   "source": [
    "#### Problem 2 - Working with Lists"
   ]
  },
  {
   "cell_type": "code",
   "execution_count": 101,
   "id": "9f3604e1",
   "metadata": {},
   "outputs": [],
   "source": [
    "my_list = ['blue',2, True ]"
   ]
  },
  {
   "cell_type": "code",
   "execution_count": 102,
   "id": "50346576",
   "metadata": {},
   "outputs": [
    {
     "data": {
      "text/plain": [
       "['blue', 2, True]"
      ]
     },
     "execution_count": 102,
     "metadata": {},
     "output_type": "execute_result"
    }
   ],
   "source": [
    "my_list"
   ]
  },
  {
   "cell_type": "code",
   "execution_count": 103,
   "id": "ececa5a2",
   "metadata": {},
   "outputs": [
    {
     "name": "stdout",
     "output_type": "stream",
     "text": [
      "My favorite color is : blue\n"
     ]
    }
   ],
   "source": [
    "print(\"My favorite color is :\",my_list[0] )"
   ]
  },
  {
   "cell_type": "code",
   "execution_count": 104,
   "id": "2ca29e99",
   "metadata": {},
   "outputs": [
    {
     "name": "stdout",
     "output_type": "stream",
     "text": [
      "I have 2 pets.\n"
     ]
    }
   ],
   "source": [
    "print(\"I have {} pets.\" .format(my_list[1]))"
   ]
  },
  {
   "cell_type": "code",
   "execution_count": 105,
   "id": "1d42eba1",
   "metadata": {},
   "outputs": [
    {
     "name": "stdout",
     "output_type": "stream",
     "text": [
      "I have previous programming experience\n"
     ]
    }
   ],
   "source": [
    "if (my_list[2] == True ):\n",
    "    print(\"I have previous programming experience\")\n",
    "else:\n",
    "    print(\"I do not have previous programming experience\")"
   ]
  },
  {
   "cell_type": "code",
   "execution_count": 106,
   "id": "6db7a9ef",
   "metadata": {},
   "outputs": [
    {
     "data": {
      "text/plain": [
       "['blue', 2, True, 7]"
      ]
     },
     "execution_count": 106,
     "metadata": {},
     "output_type": "execute_result"
    }
   ],
   "source": [
    "my_list.append(7)\n",
    "my_list"
   ]
  },
  {
   "cell_type": "code",
   "execution_count": 107,
   "id": "07d85c38",
   "metadata": {},
   "outputs": [
    {
     "name": "stdout",
     "output_type": "stream",
     "text": [
      "Removing the first element of list, New List : [2, True, 7]\n"
     ]
    }
   ],
   "source": [
    "my_list.pop(0)\n",
    "print(\"Removing the first element of list, New List :\", my_list)"
   ]
  },
  {
   "cell_type": "code",
   "execution_count": 108,
   "id": "2761c466",
   "metadata": {},
   "outputs": [
    {
     "name": "stdout",
     "output_type": "stream",
     "text": [
      "The list has 3 elements.\n"
     ]
    }
   ],
   "source": [
    "print(\"The list has {} elements.\".format(len(my_list)))"
   ]
  },
  {
   "cell_type": "markdown",
   "id": "84b7efdc",
   "metadata": {},
   "source": [
    "#### Problem 3 - Conditions and loops"
   ]
  },
  {
   "cell_type": "markdown",
   "id": "32bcc985",
   "metadata": {},
   "source": [
    "Calculate and display the sum of all the numbers divisible by 7 between 18 and 534 i.e. 21+28+35+...+525+532."
   ]
  },
  {
   "cell_type": "code",
   "execution_count": 109,
   "id": "37ac8a63",
   "metadata": {},
   "outputs": [
    {
     "name": "stdout",
     "output_type": "stream",
     "text": [
      "Sum of the numbers divisible by 7 in between range given :  20461\n"
     ]
    }
   ],
   "source": [
    "sum = 0\n",
    "for item in range(18,534):\n",
    "    if (item%7==0):\n",
    "        sum = sum + item\n",
    "\n",
    "print(\"Sum of the numbers divisible by 7 in between range given : \", sum)"
   ]
  },
  {
   "cell_type": "markdown",
   "id": "6cadfff0",
   "metadata": {},
   "source": [
    "#### Problem 4 - Flying to the Bahamas"
   ]
  },
  {
   "cell_type": "markdown",
   "id": "33dd9035",
   "metadata": {},
   "source": [
    "A travel company wants to fly a plane to the Bahamas. Flying the plane costs 5000 dollars. So far, 29 people have signed up for the trip. If the company charges 200 dollars per ticket, what is the profit made by the company?"
   ]
  },
  {
   "cell_type": "code",
   "execution_count": 110,
   "id": "c27ea895",
   "metadata": {},
   "outputs": [
    {
     "name": "stdout",
     "output_type": "stream",
     "text": [
      "The company makes of a profit of 800 dollars\n"
     ]
    }
   ],
   "source": [
    "cost_of_flying_plane = 5000\n",
    "no_of_passengers = 29\n",
    "price_of_ticket = 200\n",
    "\n",
    "profit = (no_of_passengers*price_of_ticket) - cost_of_flying_plane\n",
    "\n",
    "print('The company makes of a profit of {} dollars'.format(profit))"
   ]
  },
  {
   "cell_type": "markdown",
   "id": "f8984068",
   "metadata": {},
   "source": [
    "Out of the 29 people who took the flight, only 12 buy tickets to return from the Bahamas on the same plane. If the flying the plane back also costs 5000 dollars, and does the company make an overall profit or loss? The company charges the same fee of 200 dollars per ticket for the return flight."
   ]
  },
  {
   "cell_type": "code",
   "execution_count": 111,
   "id": "e664c88e",
   "metadata": {},
   "outputs": [
    {
     "name": "stdout",
     "output_type": "stream",
     "text": [
      "The company makes an overall loss of 2600 dollars\n"
     ]
    }
   ],
   "source": [
    "return_ticket_holders = 12\n",
    "no_of_passengers = return_ticket_holders\n",
    "profit = (no_of_passengers*price_of_ticket) - cost_of_flying_plane\n",
    "\n",
    "if (profit > 0):\n",
    "    print(\"The company makes an overall profit of {} dollars\".format(profit))\n",
    "else:\n",
    "    print(\"The company makes an overall loss of {} dollars\".format(profit * -1))"
   ]
  },
  {
   "cell_type": "markdown",
   "id": "82134e7e",
   "metadata": {},
   "source": [
    "#### Problem 5 - Twitter Sentiment Analysis"
   ]
  },
  {
   "cell_type": "markdown",
   "id": "f8d66981",
   "metadata": {},
   "source": [
    "Are your ready to perform some Data Analysis with Python? In this problem, we'll analyze some fictional tweets and find out whether the overall sentiment of Twitter users is happy or sad. This is a simplified version of an important real world problem called sentiment analysis.\n",
    "\n",
    "Before we begin, we need a list of tweets to analyze. We're picking a small number of tweets here, but the exact same analysis can also be done for thousands, or even millions of tweets. The collection of data that we perform analysis on is often called a dataset."
   ]
  },
  {
   "cell_type": "code",
   "execution_count": 112,
   "id": "7c581145",
   "metadata": {},
   "outputs": [],
   "source": [
    "# List of tweets\n",
    "tweets = [\n",
    "    \"Wow, what a great day today!! #sunshine\",\n",
    "    \"I feel sad about the things going on around us. #covid19\",\n",
    "    \"I'm really excited to learn Python with @JovianML #zerotopandas\",\n",
    "    \"This is a really nice song. #linkinpark\",\n",
    "    \"The python programming language is useful for data science\",\n",
    "    \"Why do bad things happen to me?\",\n",
    "    \"Apple announces the release of the new iPhone 12. Fans are excited.\",\n",
    "    \"Spent my day with family!! #happy\",\n",
    "    \"Check out my blog post on common string operations in Python. #zerotopandas\",\n",
    "    \"Freecodecamp has great coding tutorials. #skillup\"\n",
    "]"
   ]
  },
  {
   "cell_type": "markdown",
   "id": "423e77ca",
   "metadata": {},
   "source": [
    "How many tweets does the dataset contain?"
   ]
  },
  {
   "cell_type": "code",
   "execution_count": 113,
   "id": "45016c67",
   "metadata": {},
   "outputs": [
    {
     "name": "stdout",
     "output_type": "stream",
     "text": [
      "number_of_tweets : 10\n"
     ]
    }
   ],
   "source": [
    "print(\"number_of_tweets :\",len(tweets))"
   ]
  },
  {
   "cell_type": "markdown",
   "id": "76d86fd4",
   "metadata": {},
   "source": [
    "Let's create two lists of words: happy_words and sad_words. We will use these to check if a tweet is happy or sad."
   ]
  },
  {
   "cell_type": "code",
   "execution_count": 114,
   "id": "d7acb59a",
   "metadata": {},
   "outputs": [],
   "source": [
    "happy_words = ['great', 'excited', 'happy', 'nice', 'wonderful', 'amazing', 'good', 'best']\n",
    "sad_words = ['sad', 'bad', 'tragic', 'unhappy', 'worst']"
   ]
  },
  {
   "cell_type": "markdown",
   "id": "5c53b00f",
   "metadata": {},
   "source": [
    "To identify whether a tweet is happy, we can simply check if contains any of the words from happy_words. Here's an example:"
   ]
  },
  {
   "cell_type": "code",
   "execution_count": 115,
   "id": "44986e1c",
   "metadata": {},
   "outputs": [
    {
     "name": "stdout",
     "output_type": "stream",
     "text": [
      "Wow, what a great day today!! #sunshine\n"
     ]
    },
    {
     "data": {
      "text/plain": [
       "True"
      ]
     },
     "execution_count": 115,
     "metadata": {},
     "output_type": "execute_result"
    }
   ],
   "source": [
    "sample_tweet = tweets[0]\n",
    "\n",
    "print(sample_tweet)\n",
    "\n",
    "is_tweet_happy = False\n",
    "\n",
    "# Get a word from happy_words\n",
    "for word in happy_words:\n",
    "    # Check if the tweet contains the word\n",
    "    if word in sample_tweet:\n",
    "        # Word found! Mark the tweet as happy\n",
    "        is_tweet_happy = True\n",
    "\n",
    "is_tweet_happy"
   ]
  },
  {
   "cell_type": "markdown",
   "id": "65018dd6",
   "metadata": {},
   "source": [
    "Determine the number of tweets in the dataset that can be classified as happy."
   ]
  },
  {
   "cell_type": "code",
   "execution_count": 116,
   "id": "d0530b26",
   "metadata": {},
   "outputs": [
    {
     "name": "stdout",
     "output_type": "stream",
     "text": [
      "Number of happy tweets: 6\n"
     ]
    }
   ],
   "source": [
    "# store the final answer in this variable\n",
    "number_of_happy_tweets = 0\n",
    "\n",
    "# perform the calculations here\n",
    "for i in range(len(tweets)):\n",
    "    sample_tweet = tweets[i]\n",
    "    \n",
    "    is_tweet_happy = False\n",
    "    \n",
    "    # Get a word from happy_words\n",
    "    for word in happy_words:\n",
    "        # Check if the tweet contains the word\n",
    "        if word in sample_tweet:\n",
    "            # Word found! Mark the tweet as happy\n",
    "            is_tweet_happy = True\n",
    "            number_of_happy_tweets +=1\n",
    "            break\n",
    "\n",
    "print(\"Number of happy tweets:\", number_of_happy_tweets)\n"
   ]
  },
  {
   "cell_type": "markdown",
   "id": "501396a4",
   "metadata": {},
   "source": [
    "What fraction of the total number of tweets are happy?"
   ]
  },
  {
   "cell_type": "code",
   "execution_count": 117,
   "id": "a6aedb98",
   "metadata": {},
   "outputs": [
    {
     "name": "stdout",
     "output_type": "stream",
     "text": [
      "The fraction of happy tweets is: 0.6\n",
      "Percentage 60.0 %\n"
     ]
    }
   ],
   "source": [
    "happy_fraction = number_of_happy_tweets/len(tweets)\n",
    "print(\"The fraction of happy tweets is:\", happy_fraction)\n",
    "print(\"Percentage {} %\".format(happy_fraction*100))"
   ]
  },
  {
   "cell_type": "markdown",
   "id": "a34e9730",
   "metadata": {},
   "source": [
    "Determine the number of tweets in the dataset that can be classified as sad."
   ]
  },
  {
   "cell_type": "code",
   "execution_count": 118,
   "id": "b2731b74",
   "metadata": {},
   "outputs": [
    {
     "name": "stdout",
     "output_type": "stream",
     "text": [
      "Number of sad tweets: 2\n"
     ]
    }
   ],
   "source": [
    "# store the final answer in this variable\n",
    "number_of_sad_tweets = 0\n",
    "\n",
    "# perform the calculations here\n",
    "for i in range(len(tweets)):\n",
    "    sample_tweet = tweets[i]\n",
    "    \n",
    "    is_tweet_sad = False\n",
    "    \n",
    "    # Get a word from sad_words\n",
    "    for word in sad_words:\n",
    "        # Check if the tweet contains the word\n",
    "        if word in sample_tweet:\n",
    "            # Word found! Mark the tweet as sad\n",
    "            is_tweet_sad = True\n",
    "            number_of_sad_tweets +=1\n",
    "            break\n",
    "\n",
    "print(\"Number of sad tweets:\", number_of_sad_tweets)\n"
   ]
  },
  {
   "cell_type": "markdown",
   "id": "d4330d31",
   "metadata": {},
   "source": [
    "what fraction of the total number of tweets are sad?"
   ]
  },
  {
   "cell_type": "code",
   "execution_count": 124,
   "id": "df0a60f3",
   "metadata": {},
   "outputs": [
    {
     "name": "stdout",
     "output_type": "stream",
     "text": [
      "The fraction of sad tweets is: 0.2\n",
      "Percentage 20.0 %\n"
     ]
    }
   ],
   "source": [
    "sad_fraction = number_of_sad_tweets/len(tweets)\n",
    "print(\"The fraction of sad tweets is:\", sad_fraction)\n",
    "print(\"Percentage {} %\".format(sad_fraction*100))"
   ]
  },
  {
   "cell_type": "markdown",
   "id": "5174a7be",
   "metadata": {},
   "source": [
    "Calculate the sentiment score, which is defined as the difference betweek the fraction of happy tweets and the fraction of sad tweets."
   ]
  },
  {
   "cell_type": "code",
   "execution_count": 120,
   "id": "ee653401",
   "metadata": {},
   "outputs": [
    {
     "name": "stdout",
     "output_type": "stream",
     "text": [
      "The sentiment score for the given tweets is 0.4\n"
     ]
    }
   ],
   "source": [
    "sentiment_score = happy_fraction - sad_fraction\n",
    "print(\"The sentiment score for the given tweets is\", round(sentiment_score, 2))"
   ]
  },
  {
   "cell_type": "markdown",
   "id": "fad44155",
   "metadata": {},
   "source": [
    "Display whether the overall sentiment of the given dataset of tweets is happy or sad, using the sentiment score."
   ]
  },
  {
   "cell_type": "code",
   "execution_count": 121,
   "id": "92db1e99",
   "metadata": {},
   "outputs": [
    {
     "name": "stdout",
     "output_type": "stream",
     "text": [
      "The overall sentiment of the tweets is happy.\n"
     ]
    }
   ],
   "source": [
    "if sentiment_score > 0:\n",
    "    print(\"The overall sentiment of the tweets is happy.\")\n",
    "elif sentiment_score < 0:\n",
    "    print(\"The overall sentiment of the tweets is sad.\")\n",
    "else:\n",
    "    print(\"The overall sentiment of the tweets is neutral.\")\n"
   ]
  },
  {
   "cell_type": "markdown",
   "id": "5675952f",
   "metadata": {},
   "source": [
    "What is the number of tweets that are neutral i.e. neither happy nor sad."
   ]
  },
  {
   "cell_type": "code",
   "execution_count": 122,
   "id": "b4b203c6",
   "metadata": {},
   "outputs": [
    {
     "name": "stdout",
     "output_type": "stream",
     "text": [
      "Number of neutral tweets: 2\n"
     ]
    }
   ],
   "source": [
    "# store the final answer in this variable\n",
    "\n",
    "# Assuming all tweets as neutral\n",
    "number_of_nuetral_tweets = len(tweets)\n",
    "\n",
    "\n",
    "# perform the calculations here\n",
    "for i in range(len(tweets)):\n",
    "    sample_tweet = tweets[i]\n",
    "    \n",
    "    is_tweet_neutral = True\n",
    "    \n",
    "    # Get a word from happy_words and sad_words both\n",
    "    for word in (happy_words + sad_words):\n",
    "        # Check if the tweet contains the word\n",
    "        if word in sample_tweet:\n",
    "            # Word found! Mark the tweet as not neutral\n",
    "            is_tweet_neutral = False\n",
    "            \n",
    "            number_of_nuetral_tweets -= 1\n",
    "            \n",
    "            \n",
    "            \n",
    "            break\n",
    "\n",
    "print(\"Number of neutral tweets:\", number_of_nuetral_tweets)\n"
   ]
  },
  {
   "cell_type": "markdown",
   "id": "22d91855",
   "metadata": {},
   "source": [
    "What is the fraction of tweets that are neutral i.e. neither happy nor sad."
   ]
  },
  {
   "cell_type": "code",
   "execution_count": 123,
   "id": "afd87d6c",
   "metadata": {},
   "outputs": [
    {
     "name": "stdout",
     "output_type": "stream",
     "text": [
      "The fraction of neutral tweets is 0.2\n"
     ]
    }
   ],
   "source": [
    "# store the final answer in this variable\n",
    "nuetral_fraction = 1 - happy_fraction -sad_fraction\n",
    "print('The fraction of neutral tweets is', nuetral_fraction)"
   ]
  }
 ],
 "metadata": {
  "kernelspec": {
   "display_name": "Python 3",
   "language": "python",
   "name": "python3"
  },
  "language_info": {
   "codemirror_mode": {
    "name": "ipython",
    "version": 3
   },
   "file_extension": ".py",
   "mimetype": "text/x-python",
   "name": "python",
   "nbconvert_exporter": "python",
   "pygments_lexer": "ipython3",
   "version": "3.12.3"
  }
 },
 "nbformat": 4,
 "nbformat_minor": 5
}
