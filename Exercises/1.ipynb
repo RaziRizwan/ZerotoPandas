{
 "cells": [
  {
   "cell_type": "markdown",
   "metadata": {},
   "source": [
    "### Exercise 1"
   ]
  },
  {
   "cell_type": "markdown",
   "metadata": {},
   "source": [
    "Let's begin by importing Numpy and listing out the functions covered in this notebook."
   ]
  },
  {
   "cell_type": "markdown",
   "metadata": {},
   "source": [
    "Write a short introduction about Numpy and list the chosen functions.\n",
    "\n",
    "1. function 1\n",
    "2. function 2\n",
    "3. function 3\n",
    "4. function 4\n",
    "5. function 5"
   ]
  }
 ],
 "metadata": {
  "language_info": {
   "name": "python"
  }
 },
 "nbformat": 4,
 "nbformat_minor": 2
}
